{
 "cells": [
  {
   "cell_type": "code",
   "execution_count": null,
   "metadata": {},
   "outputs": [],
   "source": [
    "import json\n",
    "\n",
    "import numpy as np\n",
    "import pandas as pd\n",
    "import requests\n",
    "import requests_cache\n",
    "import tqdm.notebook as tqdm\n",
    "from rdkit import Chem"
   ]
  },
  {
   "cell_type": "code",
   "execution_count": null,
   "metadata": {},
   "outputs": [],
   "source": [
    "requests_cache.install_cache('emp500_cache')"
   ]
  },
  {
   "cell_type": "code",
   "execution_count": null,
   "metadata": {},
   "outputs": [],
   "source": [
    "metadata = pd.read_csv('../data/emp500_gcms_feature_metadata_annotations.txt',\n",
    "                       sep='\\t')"
   ]
  },
  {
   "cell_type": "code",
   "execution_count": null,
   "metadata": {},
   "outputs": [],
   "source": [
    "def get_class(mol_type, mol_val):\n",
    "    r = requests.get(f'https://gnps-structure.ucsd.edu/classyfire?{mol_type}={mol_val}')\n",
    "    if r.status_code != 200:\n",
    "        return None\n",
    "    try:\n",
    "        classyfire_json = r.json()\n",
    "        if not classyfire_json:\n",
    "            return None\n",
    "        if ('superclass' not in classyfire_json or\n",
    "                'class' not in classyfire_json or\n",
    "                'subclass' not in classyfire_json):\n",
    "            return None\n",
    "        superclass = classyfire_json['superclass']\n",
    "        if superclass is not None:\n",
    "            superclass = superclass['name']\n",
    "        clss = classyfire_json['class']\n",
    "        if clss is not None:\n",
    "            clss = clss['name']\n",
    "        subclass = classyfire_json['subclass']\n",
    "        if subclass is not None:\n",
    "            subclass = subclass['name']\n",
    "        return superclass, clss, subclass\n",
    "    except json.decoder.JSONDecodeError:\n",
    "        return None    "
   ]
  },
  {
   "cell_type": "code",
   "execution_count": null,
   "metadata": {},
   "outputs": [],
   "source": [
    "metadata_missing = metadata[metadata.isna()[['superclass', 'class', 'subclass']]\n",
    "                            .sum(axis=1).astype(bool)]\n",
    "inchi_smiles = metadata_missing[['INCHI', 'Smiles']].dropna(how='all')\n",
    "classes = []\n",
    "for i, compound in tqdm.tqdm(inchi_smiles.iterrows(), total=len(inchi_smiles)):\n",
    "    inchi, smiles = compound['INCHI'], compound['Smiles']\n",
    "    result = get_class('inchi', inchi) if inchi is not None else None\n",
    "    if result is None:\n",
    "        if pd.isna(smiles):\n",
    "            continue\n",
    "        mol = Chem.MolFromSmiles(smiles)\n",
    "        result = (get_class('smiles', Chem.MolToSmiles(mol, False))\n",
    "                  if mol is None else None)\n",
    "    if result is not None:\n",
    "        classes.append((i, *result))"
   ]
  },
  {
   "cell_type": "code",
   "execution_count": null,
   "metadata": {},
   "outputs": [],
   "source": [
    "classes = pd.DataFrame(classes, columns=['id', 'superclass', 'class', 'subclass'])"
   ]
  },
  {
   "cell_type": "code",
   "execution_count": null,
   "metadata": {},
   "outputs": [],
   "source": [
    "metadata.loc[classes['id'], 'superclass'] = classes['superclass'].values\n",
    "metadata.loc[classes['id'], 'class'] = classes['class'].values\n",
    "metadata.loc[classes['id'], 'subclass'] = classes['subclass'].values"
   ]
  },
  {
   "cell_type": "code",
   "execution_count": null,
   "metadata": {},
   "outputs": [],
   "source": [
    "metadata.to_csv('../data/emp500_gcms_feature_metadata_annotations_classyfire.txt',\n",
    "                sep='\\t')"
   ]
  }
 ],
 "metadata": {
  "kernelspec": {
   "display_name": "Python 3",
   "language": "python",
   "name": "python3"
  },
  "language_info": {
   "codemirror_mode": {
    "name": "ipython",
    "version": 3
   },
   "file_extension": ".py",
   "mimetype": "text/x-python",
   "name": "python",
   "nbconvert_exporter": "python",
   "pygments_lexer": "ipython3",
   "version": "3.6.12"
  }
 },
 "nbformat": 4,
 "nbformat_minor": 4
}
