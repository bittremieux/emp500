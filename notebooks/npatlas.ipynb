{
 "cells": [
  {
   "cell_type": "code",
   "execution_count": null,
   "metadata": {},
   "outputs": [],
   "source": [
    "import numpy as np\n",
    "import pandas as pd\n",
    "from rdkit import Chem"
   ]
  },
  {
   "cell_type": "code",
   "execution_count": null,
   "metadata": {},
   "outputs": [],
   "source": [
    "features = pd.read_csv('../data/emp500_lcms_fbmn_feature_metadata_all.txt',\n",
    "                       sep='\\t', low_memory=False)"
   ]
  },
  {
   "cell_type": "code",
   "execution_count": null,
   "metadata": {},
   "outputs": [],
   "source": [
    "npatlas = pd.read_csv('https://www.npatlas.org/custom/versions/'\n",
    "                      'np_atlas_2020_06/NPAtlas_download.tsv',\n",
    "                      sep='\\t')"
   ]
  },
  {
   "cell_type": "code",
   "execution_count": null,
   "metadata": {},
   "outputs": [],
   "source": [
    "def _inchi_to_inchikey(inchi):\n",
    "    if pd.isnull(inchi) or not inchi.strip():\n",
    "        return np.nan\n",
    "    else:\n",
    "        if not inchi.startswith('InChI='):\n",
    "            inchi = f'InChI={inchi.strip()}'\n",
    "        return Chem.inchi.InchiToInchiKey(inchi)\n",
    "\n",
    "# Convert InChIs to the first block of the InChI key (no stereochemistry).\n",
    "features['inchikey_nostereo'] = (features['GNPS_INCHI']\n",
    "                                 .apply(_inchi_to_inchikey)\n",
    "                                 .str.split('-').str[0])\n",
    "npatlas['inchikey_nostereo'] = (npatlas['compound_inchikey']\n",
    "                                .str.split('-').str[0])\n",
    "# Merge duplicate NP Atlas entries.\n",
    "npatlas = (npatlas.groupby('inchikey_nostereo')\n",
    "           [['npaid', 'compound_id', 'compound_names', 'origin_type',\n",
    "             'genus', 'origin_species', 'mibig_ids', 'gnps_ids']]\n",
    "           .agg(lambda values: '|'.join([str(v) for v in values]))\n",
    "           .reset_index())"
   ]
  },
  {
   "cell_type": "code",
   "execution_count": null,
   "metadata": {},
   "outputs": [],
   "source": [
    "merged = pd.merge(features, npatlas, 'left', 'inchikey_nostereo')\n",
    "merged.to_csv('../data/emp500_lcms_fbmn_feature_metadata_all_npatlas.txt',\n",
    "              sep='\\t', index=False)"
   ]
  }
 ],
 "metadata": {
  "kernelspec": {
   "display_name": "Python 3",
   "language": "python",
   "name": "python3"
  },
  "language_info": {
   "codemirror_mode": {
    "name": "ipython",
    "version": 3
   },
   "file_extension": ".py",
   "mimetype": "text/x-python",
   "name": "python",
   "nbconvert_exporter": "python",
   "pygments_lexer": "ipython3",
   "version": "3.6.12"
  }
 },
 "nbformat": 4,
 "nbformat_minor": 4
}
